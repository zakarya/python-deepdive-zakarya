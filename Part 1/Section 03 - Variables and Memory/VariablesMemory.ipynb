{
 "cells": [
  {
   "cell_type": "code",
   "id": "initial_id",
   "metadata": {
    "collapsed": true,
    "ExecuteTime": {
     "end_time": "2024-11-29T05:02:18.291729Z",
     "start_time": "2024-11-29T05:02:18.286212Z"
    }
   },
   "source": "my_var = 10",
   "outputs": [],
   "execution_count": 1
  },
  {
   "metadata": {
    "ExecuteTime": {
     "end_time": "2024-11-29T05:02:23.956121Z",
     "start_time": "2024-11-29T05:02:23.951044Z"
    }
   },
   "cell_type": "code",
   "source": "print(my_var)",
   "id": "729f74c93af71795",
   "outputs": [
    {
     "name": "stdout",
     "output_type": "stream",
     "text": [
      "10\n"
     ]
    }
   ],
   "execution_count": 2
  },
  {
   "metadata": {
    "ExecuteTime": {
     "end_time": "2024-11-29T05:02:37.417082Z",
     "start_time": "2024-11-29T05:02:37.412685Z"
    }
   },
   "cell_type": "code",
   "source": "print(id(my_var))",
   "id": "d2b81a7f7068669e",
   "outputs": [
    {
     "name": "stdout",
     "output_type": "stream",
     "text": [
      "9767048\n"
     ]
    }
   ],
   "execution_count": 3
  },
  {
   "metadata": {
    "ExecuteTime": {
     "end_time": "2024-11-29T05:03:12.067785Z",
     "start_time": "2024-11-29T05:03:12.056822Z"
    }
   },
   "cell_type": "code",
   "source": "print(hex(id(my_var)))",
   "id": "33261e9cfa05c315",
   "outputs": [
    {
     "name": "stdout",
     "output_type": "stream",
     "text": [
      "0x950888\n"
     ]
    }
   ],
   "execution_count": 4
  },
  {
   "metadata": {
    "ExecuteTime": {
     "end_time": "2024-11-29T05:03:35.861006Z",
     "start_time": "2024-11-29T05:03:35.857339Z"
    }
   },
   "cell_type": "code",
   "source": "greeting = 'hello'",
   "id": "d74583a55aceba92",
   "outputs": [],
   "execution_count": 5
  },
  {
   "metadata": {
    "ExecuteTime": {
     "end_time": "2024-11-29T05:03:43.278244Z",
     "start_time": "2024-11-29T05:03:43.272906Z"
    }
   },
   "cell_type": "code",
   "source": "print(greeting)",
   "id": "510f1d136be4b10c",
   "outputs": [
    {
     "name": "stdout",
     "output_type": "stream",
     "text": [
      "hello\n"
     ]
    }
   ],
   "execution_count": 6
  },
  {
   "metadata": {
    "ExecuteTime": {
     "end_time": "2024-11-29T05:03:52.031768Z",
     "start_time": "2024-11-29T05:03:52.026596Z"
    }
   },
   "cell_type": "code",
   "source": "print(id(greeting))",
   "id": "62e5b4e607e24679",
   "outputs": [
    {
     "name": "stdout",
     "output_type": "stream",
     "text": [
      "126659209914208\n"
     ]
    }
   ],
   "execution_count": 7
  },
  {
   "metadata": {
    "ExecuteTime": {
     "end_time": "2024-11-29T05:04:06.157676Z",
     "start_time": "2024-11-29T05:04:06.150270Z"
    }
   },
   "cell_type": "code",
   "source": "print(hex(id(greeting)))",
   "id": "a7c15bfa6c427b0a",
   "outputs": [
    {
     "name": "stdout",
     "output_type": "stream",
     "text": [
      "0x73322536e760\n"
     ]
    }
   ],
   "execution_count": 8
  },
  {
   "metadata": {},
   "cell_type": "code",
   "outputs": [],
   "execution_count": null,
   "source": "",
   "id": "9b63d59761ae91a5"
  }
 ],
 "metadata": {
  "kernelspec": {
   "display_name": "Python 3",
   "language": "python",
   "name": "python3"
  },
  "language_info": {
   "codemirror_mode": {
    "name": "ipython",
    "version": 2
   },
   "file_extension": ".py",
   "mimetype": "text/x-python",
   "name": "python",
   "nbconvert_exporter": "python",
   "pygments_lexer": "ipython2",
   "version": "2.7.6"
  }
 },
 "nbformat": 4,
 "nbformat_minor": 5
}
